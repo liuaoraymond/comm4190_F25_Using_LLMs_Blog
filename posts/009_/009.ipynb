{
 "cells": [
  {
   "cell_type": "raw",
   "id": "metadata-cell",
   "metadata": {},
   "source": [
    "---\n",
    "title: \"Experimenting with Vibe Creation Using LLMs\"\n",
    "description: \"Testing how language models interpret and generate atmospheric descriptions\"\n",
    "author: \"Raymond Liu Ao\"\n",
    "date: \"9/29/2025\"\n",
    "categories:\n",
    "  - AI\n",
    "  - LLM\n",
    "  - creative\n",
    "  - claude\n",
    "image: \"vibe-prompting.jpg\"\n",
    "---"
   ]
  },
  {
   "cell_type": "markdown",
   "id": "intro-section",
   "metadata": {},
   "source": [
    "## Playing with Atmospheric Prompting\n",
    "\n",
    "I've been experimenting with what I'm calling \"vibe creation\" in Claude—essentially asking the LLM to generate or interpret atmospheric descriptions for different contexts. The goal was to see how well these models understand and reproduce subjective, mood-based content rather than factual information.\n",
    "\n",
    "![Vibe Prompting Interface](vibe-prompting.jpg)\n",
    "*Testing different prompts to generate atmospheric descriptions*"
   ]
  },
  {
   "cell_type": "markdown",
   "id": "initial-experiments",
   "metadata": {},
   "source": [
    "## The Prompts I Tested\n",
    "\n",
    "### Starting Simple\n",
    "\n",
    "My first prompt was straightforward:\n",
    "\n",
    "> \"Describe the vibe of a rainy coffee shop at 3pm on a Tuesday\"\n",
    "\n",
    "Claude generated a description that hit the expected notes—muted conversations, steam from coffee cups, the rhythmic sound of rain. It was accurate but generic, the kind of description you'd find in any piece of atmospheric writing.\n",
    "\n",
    "### Adding Specificity\n",
    "\n",
    "I tried making the prompt more specific:\n",
    "\n",
    "> \"Describe the vibe of a college library during finals week at 2am. Include sounds, lighting, and the feeling of collective stress\"\n",
    "\n",
    "This produced better results. The model captured details like the fluorescent lighting, the sound of highlighters on paper, and the \"quiet panic\" of students. It understood the assignment but still felt somewhat detached—like someone describing a scene they'd read about rather than experienced.\n",
    "\n",
    "### Testing Negative Space\n",
    "\n",
    "Here's where it got interesting. I asked:\n",
    "\n",
    "> \"Describe the vibe of an empty office building at night. Focus on what's NOT there rather than what is\"\n",
    "\n",
    "Claude struggled more with this. It could describe absence—no people, no noise—but couldn't quite capture the uncanny feeling of a space designed for activity sitting dormant. The descriptions remained surface-level. The output focused on the lack of meetings, chatter, talk, noise in the office. But it did not capture the liminal-space-like, vast, expansive (almost scary) vibe of an empty office in the way the show Severance, for instance, can.\n",
    "\n",
    "![Vibe Comparison Results](vibe-comparison.jpg)\n",
    "*Comparing outputs from different prompting approaches*"
   ]
  },
  {
   "cell_type": "markdown",
   "id": "what-worked-didnt",
   "metadata": {},
   "source": [
    "## What Worked and What Didn't\n",
    "\n",
    "### Strengths\n",
    "\n",
    "The LLM is good at:\n",
    "- Assembling sensory details that conventionally fit a scene\n",
    "- Understanding cultural contexts (\"finals week\" immediately triggered appropriate stress markers)\n",
    "- Maintaining consistency within a single atmospheric description\n",
    "- Responding to structural prompts (\"focus on sounds\" vs \"focus on lighting\")\n",
    "\n",
    "### Limitations\n",
    "\n",
    "Where it falls short:\n",
    "- Generating truly novel atmospheric combinations\n",
    "- Capturing subtle emotional undertones that aren't explicitly named\n",
    "- Moving beyond stereotypical associations (coffee shop = cozy, library = studious)\n",
    "- Understanding the relationship between physical space and psychological state in non-obvious ways\n",
    "\n",
    "The model seems to work from a database of common associations rather than synthesizing new atmospheric understanding."
   ]
  },
  {
   "cell_type": "markdown",
   "id": "the-gloomer-perspective",
   "metadata": {},
   "source": [
    "## Why This Matters (From a Skeptical Angle)\n",
    "\n",
    "### The Homogenization Problem\n",
    "\n",
    "If everyone starts using LLMs to generate atmospheric descriptions for creative projects, writing, or marketing, we risk creating a feedback loop of averaged-out vibes. The model can only reproduce what it's seen in training data, which means we get the most statistically likely description of any given mood or setting.\n",
    "\n",
    "After all, LLMs tend to regress toward mean responses when generating creative content, potentially flattening the diversity of human expression.\n",
    "\n",
    "### Lost Nuance\n",
    "\n",
    "Real atmospheric writing comes from personal observation and specific experience. When I asked Claude to describe my college library during finals, it gave me a generic college library experience. It couldn't know about the specific smell of old heating systems mixed with energy drinks, or the way light reflects off that one weird pillar in the corner.\n",
    "\n",
    "### Useful But Limited Tool\n",
    "\n",
    "This isn't to say vibe creation with LLMs is useless. It's good for:\n",
    "- Quick brainstorming when you're stuck\n",
    "- Getting a baseline description to then personalize\n",
    "- Understanding how certain settings are conventionally described\n",
    "\n",
    "But treating it as a replacement for actual observation and personal experience would result in flatter, less distinctive creative work."
   ]
  },
  {
   "cell_type": "markdown",
   "id": "conclusion",
   "metadata": {},
   "source": [
    "## Final Thoughts\n",
    "\n",
    "Playing with vibe creation revealed both the capabilities and constraints of current LLMs. They're sophisticated pattern-matching systems that can assemble convincing atmospheric descriptions from training data, but they lack the experiential knowledge that makes truly evocative writing memorable.\n",
    "\n",
    "The exercise reinforced my skepticism about over-relying on these tools for creative work. They're useful for scaffolding and inspiration, but the most interesting atmospheric details still need to come from human observation and experience.\n",
    "\n",
    "For anyone trying similar experiments: push the model toward specificity and unconventional combinations. The more generic your prompt, the more generic your output."
   ]
  }
 ],
 "metadata": {
  "kernelspec": {
   "display_name": "Python 3",
   "language": "python",
   "name": "python3"
  },
  "language_info": {
   "codemirror_mode": {
    "name": "ipython",
    "version": 3
   },
   "file_extension": ".py",
   "mimetype": "text/x-python",
   "name": "python",
   "nbconvert_exporter": "python",
   "pygments_lexer": "ipython3",
   "version": "3.8.5"
  }
 },
 "nbformat": 4,
 "nbformat_minor": 4
}