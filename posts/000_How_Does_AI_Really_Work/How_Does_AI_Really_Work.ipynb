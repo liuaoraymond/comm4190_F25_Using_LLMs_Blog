{
 "cells": [
  {
   "cell_type": "raw",
   "id": "6485282e-d861-46e7-a19f-926473463322",
   "metadata": {},
   "source": [
    "---\n",
    "title: \"Ray's Test\"\n",
    "description: \"Testing Blogging\" \n",
    "author: \"Ray\"\n",
    "date: \"09/02/2025\"\n",
    "categories:\n",
    "  - LLMs\n",
    "  - Learning\n",
    "\n",
    "---"
   ]
  },
  {
   "cell_type": "markdown",
   "id": "f8d2d80a-cdb4-4ad4-8fab-018f9326cbcb",
   "metadata": {},
   "source": []
  }
 ],
 "metadata": {
  "kernelspec": {
   "display_name": "Python 3-12 (COMM4190)",
   "language": "python",
   "name": "python3-12_comm4190"
  },
  "language_info": {
   "codemirror_mode": {
    "name": "ipython",
    "version": 3
   },
   "file_extension": ".py",
   "mimetype": "text/x-python",
   "name": "python",
   "nbconvert_exporter": "python",
   "pygments_lexer": "ipython3",
   "version": "3.12.11"
  }
 },
 "nbformat": 4,
 "nbformat_minor": 5
}
