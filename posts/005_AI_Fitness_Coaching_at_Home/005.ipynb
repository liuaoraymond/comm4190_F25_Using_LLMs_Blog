{
 "cells": [
  {
   "cell_type": "raw",
   "id": "metadata-cell",
   "metadata": {},
   "source": [
    "---\n",
    "title: \"AI Fitness Coaching at Home\"\n",
    "description: \"Using smartphone apps for form correction and personalized workouts\"\n",
    "author: \"Raymond Liu Ao\"\n",
    "date: \"9/19/2025\"\n",
    "categories:\n",
    "  - AI\n",
    "  - fitness\n",
    "  - health\n",
    "image: \"ai-form-analysis.jpg\"\n",
    "---"
   ]
  },
  {
   "cell_type": "markdown",
   "id": "intro-section",
   "metadata": {},
   "source": [
    "## Working Out with AI Guidance\n",
    "\n",
    "I tried the Freeletics app today instead of going to the gym. It uses your phone's camera to watch your form and give feedback in real time, which felt like having a trainer watching you.\n",
    "\n",
    "![AI Form Analysis](ai-form-analysis.jpg)\n",
    "*Smartphone analyzing exercise form with real-time feedback*"
   ]
  },
  {
   "cell_type": "markdown",
   "id": "how-it-works",
   "metadata": {},
   "source": [
    "## How It Works\n",
    "\n",
    "### Real-Time Form Correction\n",
    "\n",
    "You prop your phone up and the camera tracks your movements. When I was doing squats, it noticed I wasn't going low enough and told me to \"squat deeper\" right as I was doing the exercise. It also caught that I was leaning too far forward.\n",
    "\n",
    "### Counts Reps Automatically\n",
    "\n",
    "The app counts your repetitions so you don't have to keep track. It only counts reps with proper form, so if your push-up doesn't go low enough, it won't count it.\n",
    "\n",
    "### Adjusts Based on Performance\n",
    "\n",
    "When I started struggling with burpees halfway through, the app suggested switching to a modified version. It seemed to pick up on the fact that my form was getting sloppy and offered an easier variation."
   ]
  },
  {
   "cell_type": "markdown",
   "id": "what-works",
   "metadata": {},
   "source": [
    "## What Works Well\n",
    "\n",
    "### Form Feedback\n",
    "The corrections are actually helpful. It's like having someone watch you who knows what proper form looks like. Caught several things I didn't realize I was doing wrong.\n",
    "\n",
    "### No Equipment Needed\n",
    "All bodyweight exercises, so you can do it anywhere. The app designs workouts based on what space and time you have available.\n",
    "\n",
    "### Adapts to Your Level\n",
    "Starts with easier exercises and gradually increases difficulty based on how you perform. If you're struggling, it scales back. If you're crushing it, it adds more challenging moves.\n",
    "\n",
    "### Tracks Progress Over Time\n",
    "Keeps track of how many reps you can do and how your form improves. You can see whether you're getting stronger or if certain exercises are still difficult."
   ]
  },
  {
   "cell_type": "markdown",
   "id": "limitations",
   "metadata": {},
   "source": [
    "## Limitations\n",
    "\n",
    "### Camera Angle Matters\n",
    "You need to position your phone correctly for it to see your whole body. Took a few tries to get the angle right.\n",
    "\n",
    "### Lighting Requirements\n",
    "Works better in good lighting. Had trouble tracking movements when the room was too dim.\n",
    "\n",
    "### Limited Exercise Types\n",
    "Focuses mainly on bodyweight movements. If you want to lift weights or use equipment, you'll need a different approach.\n",
    "\n",
    "### Not Always Perfect\n",
    "Sometimes misses form issues or gives feedback that doesn't quite match what you're doing. Still better than working out with no guidance, but not as precise as a human trainer.\n",
    "\n",
    "It's a solid option for home workouts when you want some structure and feedback. The form correction feature is genuinely useful, especially for exercises you're not familiar with."
   ]
  }
 ],
 "metadata": {
  "kernelspec": {
   "display_name": "Python 3",
   "language": "python",
   "name": "python3"
  },
  "language_info": {
   "codemirror_mode": {
    "name": "ipython",
    "version": 3
   },
   "file_extension": ".py",
   "mimetype": "text/x-python",
   "name": "python",
   "nbconvert_exporter": "python3",
   "version": "3.8.5"
  }
 },
 "nbformat": 4,
 "nbformat_minor": 4
}