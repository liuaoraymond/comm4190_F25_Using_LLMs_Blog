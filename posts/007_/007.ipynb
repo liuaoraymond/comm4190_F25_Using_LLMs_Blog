{
 "cells": [
  {
   "cell_type": "raw",
   "id": "metadata-cell",
   "metadata": {},
   "source": [
    "---\n",
    "title: \"AI Email Management That Actually Works\"\n",
    "description: \"Using smart filters and auto-responses to handle inbox overload\"\n",
    "author: \"Raymond Liu Ao\"\n",
    "date: \"9/25/2025\"\n",
    "categories:\n",
    "  - AI\n",
    "  - productivity\n",
    "  - organization\n",
    "image: \"smart-inbox-sorting.jpg\"\n",
    "---"
   ]
  },
  {
   "cell_type": "markdown",
   "id": "intro-section",
   "metadata": {},
   "source": [
    "## Letting AI Handle My Inbox\n",
    "\n",
    "I set up SaneBox to manage my email and it's been running for about a week now. Instead of manually sorting through everything, the AI decides what's important and what can wait.\n",
    "\n",
    "![Smart Inbox Sorting](smart-inbox-sorting.jpg)\n",
    "*AI automatically categorizing emails by priority level*"
   ]
  },
  {
   "cell_type": "markdown",
   "id": "what-it-does",
   "metadata": {},
   "source": [
    "## How It Sorts Things Out\n",
    "\n",
    "### Priority Filtering\n",
    "\n",
    "SaneBox learns from which emails I actually open and respond to. Work emails from my team get flagged as important, while newsletters and promotional stuff gets moved to a separate folder. It's not perfect but catches most of the obvious stuff.\n",
    "\n",
    "### Smart Scheduling\n",
    "\n",
    "Gmail's AI also suggests response times and can schedule emails to send later. I've been using it to send emails during business hours even when I'm working late, so I don't look like I'm always online.\n",
    "\n",
    "### Quick Replies\n",
    "\n",
    "The suggested responses are actually useful for simple emails. When someone sends a meeting request, it'll suggest \"Looks good\" or \"Let me check my calendar\" which saves typing the same responses over and over.\n",
    "\n",
    "![Email Response Suggestions](smart-email-responses.jpg)\n",
    "*AI-generated reply suggestions for common email types*"
   ]
  },
  {
   "cell_type": "markdown",
   "id": "practical-benefits",
   "metadata": {},
   "source": [
    "## What I've Noticed\n",
    "\n",
    "### Less Time Sorting\n",
    "\n",
    "The main benefit is spending less time deciding what to read first. Important emails show up in the main inbox, everything else gets organized automatically.\n",
    "\n",
    "### Fewer Missed Messages\n",
    "\n",
    "Before, urgent emails would get buried under promotional stuff. Now they're separated, so I'm less likely to miss something important.\n",
    "\n",
    "### Still Need to Check\n",
    "\n",
    "The AI sometimes gets it wrong - puts important emails in the low-priority folder or flags spam as urgent. You still need to glance through everything, but it's more organized.\n",
    "\n",
    "It's a decent time-saver for people who get a lot of email. Not life-changing, but removes some of the daily friction of inbox management. The filtering works better than I expected, though you need to train it for a few days before it gets your priorities right."
   ]
  }
 ],
 "metadata": {
  "kernelspec": {
   "display_name": "Python 3",
   "language": "python",
   "name": "python3"
  },
  "language_info": {
   "codemirror_mode": {
    "name": "ipython",
    "version": 3
   },
   "file_extension": ".py",
   "mimetype": "text/x-python",
   "name": "python",
   "nbconvert_exporter": "python",
   "pygments_lexer": "ipython3",
   "version": "3.8.5"
  }
 },
 "nbformat": 4,
 "nbformat_minor": 4
}