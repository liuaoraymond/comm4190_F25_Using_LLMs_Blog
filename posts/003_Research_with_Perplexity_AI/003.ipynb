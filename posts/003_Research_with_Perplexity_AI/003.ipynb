{
 "cells": [
  {
   "cell_type": "raw",
   "id": "metadata-cell",
   "metadata": {},
   "source": [
    "---\n",
    "title: \"Research with Perplexity AI\"\n",
    "description: \"How AI-powered search is changing the way we gather and analyze information\"\n",
    "author: \"Raymond Liu Ao\"\n",
    "date: \"9/15/2025\"\n",
    "categories:\n",
    "  - AI\n",
    "  - research\n",
    "  - productivity\n",
    "image: \"perplexity-research.jpg\"\n",
    "---"
   ]
  },
  {
   "cell_type": "markdown",
   "id": "intro-section",
   "metadata": {},
   "source": [
    "## Using AI for Research\n",
    "\n",
    "I've been trying out Perplexity AI for research tasks lately. It's different from regular Google searches because it synthesizes information from multiple sources and gives you one coherent answer with citations.\n",
    "\n",
    "![Perplexity AI Interface](perplexity-research.jpg)\n",
    "*Perplexity AI interface showing search results with sources*"
    "\n",
    "![Perplexity AI Interface](perplexity-research.jpg)\n",
    "*Perplexity AI interface showing search results with sources*"
   ]
  },
  {
   "cell_type": "markdown",
   "id": "how-it-works",
   "metadata": {},
   "source": [
    "## How It Works\n",
    "\n",
    "### Getting Information from Multiple Sources\n",
    "\n",
    "Instead of opening multiple tabs and reading through different articles, Perplexity pulls information from various sources and combines it into a single response. When I was researching market trends for a work project, I got a summary that included key points from several industry reports, all with proper citations.\n",
    "\n",
    "### Follow-up Questions\n",
    "\n",
    "You can ask follow-up questions that build on your previous search. After asking about \"sustainable packaging trends 2025,\" I could continue with:\n",
    "- \"What are the cost implications?\"\n",
    "- \"Which companies are leading this transition?\"\n",
    "- \"How does this compare to 2024 predictions?\"\n",
    "\n",
    "The AI remembers the context, so you don't need to re-explain what you're looking for.\n",
    "\n",
    "![Perplexity Search Results](perplexity-citations.jpg)\n",
    "*Live citations and source integration in action*"
   ]
  },
  {
   "cell_type": "markdown",
   "id": "when-useful",
   "metadata": {},
   "source": [
    "## When It's Useful\n",
    "\n",
    "### Academic Work\n",
    "Good for getting an overview of research topics and finding relevant studies. Helps identify what's already been studied and where there might be gaps.\n",
    "\n",
    "### Business Research\n",
    "Useful for market analysis and industry trends. You can ask specific questions and get answers that draw from recent reports and news sources.\n",
    "\n",
    "### Learning New Topics\n",
    "When you're unfamiliar with a subject, it can explain concepts and provide background without having to piece together information from multiple websites.\n",
    "\n",
    "### Fact-Checking\n",
    "Since it shows sources for each piece of information, it's easier to verify claims and see where data comes from."
   ]
  },
  {
   "cell_type": "markdown",
   "id": "what-i-noticed",
   "metadata": {},
   "source": [
    "## What I've Found\n",
    "\n",
    "### Saves Time\n",
    "The main benefit is speed. You get the key information faster since it's already compiled from multiple sources. You still need to read the original sources for details, but the initial overview is much quicker.\n",
    "\n",
    "### Clear Sources\n",
    "Every piece of information comes with citations, so you can see exactly where it came from and verify it if needed.\n",
    "\n",
    "### Handles Context Well\n",
    "The conversation aspect works better than I expected. You can refine questions or explore related topics without starting over.\n",
    "\n",
    "### Shows Different Viewpoints\n",
    "When sources disagree, it usually mentions the different perspectives rather than just presenting one view.\n",
    "\n",
    "It's a useful tool for the initial stages of research when you need to understand a topic quickly or gather information from multiple sources. Not a replacement for thorough research, but it does help speed up the information gathering process."
   ]
  }
 ],
 "metadata": {
  "kernelspec": {
   "display_name": "Python 3",
   "language": "python",
   "name": "python3"
  },
  "language_info": {
   "codemirror_mode": {
    "name": "ipython",
    "version": 3
   },
   "file_extension": ".py",
   "mimetype": "text/x-python",
   "name": "python",
   "nbconvert_exporter": "python",
   "version": "3.8.5"
  }
 },
 "nbformat": 4,
 "nbformat_minor": 4
}