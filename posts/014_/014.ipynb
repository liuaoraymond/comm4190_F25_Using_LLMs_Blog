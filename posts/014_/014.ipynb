{
 "cells": [
  {
   "cell_type": "raw",
   "id": "metadata-cell",
   "metadata": {},
   "source": [
    "---\n",
    "title: \"Superagency Review #1: History Is Written by the Winners\"\n",
    "description: \"Reading Reid Hoffman's optimistic AI book from a skeptical perspective - Part 1\"\n",
    "author: \"Raymond Liu Ao\"\n",
    "date: \"10/11/2025\"\n",
    "categories:\n",
    "  - AI\n",
    "  - book-review\n",
    "  - skeptical\n",
    "  - research\n",
    "image: \"superagency-book-cover.jpg\"\n",
    "---"
   ]
  },
  {
   "cell_type": "markdown",
   "id": "intro-section",
   "metadata": {},
   "source": [
    "## Reading Superagency: A Gloomer's Perspective\n",
    "\n",
    "I'm reading Reid Hoffman and Greg Beato's [*Superagency: What Could Possibly Go Right with Our AI Future*](https://www.superagency.ai/)—a book that argues for optimism about generative AI and its potential to enhance human agency. As someone who identifies as a gloomer about AI, I'm approaching this with skepticism but genuine curiosity.\n",
    "\n",
    "This is part 1 of 5 reviews covering the entire book. Pages 1-47: The introduction and framing.\n",
    "\n",
    "<img src=\"superagency-book-cover.jpg\" alt=\"Superagency Book\" style=\"max-width: 450px; max-height: 300px; object-fit: contain; display: block; margin: 20px auto;\"/>\n",
    "\n",
    "*Superagency by Reid Hoffman and Greg Beato*"
   ]
  },
  {
   "cell_type": "markdown",
   "id": "the-framing",
   "metadata": {},
   "source": [
    "## The Historical Framing: Art, Luddites, and Printing Presses\n",
    "\n",
    "The introduction opens with an interesting historical analogy. Hoffman and Beato walk through past technological disruptions:\n",
    "\n",
    "**Socrates and Art:** Socrates opposed art because it failed to capture the conversational, evolutionary, iterative process of discussion-based learning. Written text was static; dialogue was dynamic.\n",
    "\n",
    "**The Luddites:** Workers who resisted industrial machinery that threatened their livelihoods and ways of life.\n",
    "\n",
    "**The Printing Press:** A technology that faced backlash from those who feared the democratization of knowledge.\n",
    "\n",
    "The pattern is clear: history is full of examples of technological backlash. The book frames AI as the latest in this line—another \"infrastructural change event\" that will transform human capacity and agency.\n",
    "\n",
    "I'll admit, the framing is effective. The core question the book poses is compelling: \"Can we continue to maintain control of our lives, and successfully plot our own destinies?\" in the age of AI."
   ]
  },
  {
   "cell_type": "markdown",
   "id": "the-winners-story",
   "metadata": {},
   "source": [
    "## History Is Written by the Winners\n",
    "\n",
    "Here's where my skepticism kicks in.\n",
    "\n",
    "Yes, all these technological disruptions—art, steam power, the printing press—were consequential and enabled human agency in important ways:\n",
    "\n",
    "**Art** captured feelings, periods, and provided first-hand historical resources.\n",
    "\n",
    "**Steam power** and the Industrial Revolution brought unimaginable productivity and capital accumulation, leading to the consolidation of modern cities.\n",
    "\n",
    "**The printing press** enabled communication and knowledge dissemination like never before.\n",
    "\n",
    "We've all benefited from these major strides, one way or another. But the more closely we examine the nuances of these pivotal moments, the more we realize there's much more to the story.\n",
    "\n",
    "The problem is that we often focus on the positives—maybe as a sign of human delusion, or a craving to minimize problems. Important details get left behind. History is written by the winners, after all.\n",
    "\n",
    "<img src=\"industrial-revolution-workers.jpg\" alt=\"Historical Technology Impact\" style=\"max-width: 450px; max-height: 300px; object-fit: contain; display: block; margin: 20px auto;\"/>\n",
    "\n",
    "*The Industrial Revolution: productivity gains alongside worker displacement*"
   ]
  },
  {
   "cell_type": "markdown",
   "id": "what-gets-left-out",
   "metadata": {},
   "source": [
    "## What the Winners' History Leaves Out\n",
    "\n",
    "### The Industrial Revolution's Dark Side\n",
    "\n",
    "The steam engine and industrialization brought unprecedented productivity. But they also brought:\n",
    "- Brutal working conditions in factories\n",
    "- Child labor\n",
    "- Destruction of artisan crafts and traditional ways of life\n",
    "- Environmental degradation that we're still dealing with\n",
    "- Massive wealth inequality and the creation of exploitative labor systems\n",
    "\n",
    "According to [historical analysis of the Industrial Revolution](https://www.britannica.com/event/Industrial-Revolution), while productivity soared, real wages for workers stagnated or declined for decades. The \"winners\" who wrote that history were the factory owners and industrialists, not the displaced weavers or child laborers.\n",
    "\n",
    "### The Printing Press and Information Chaos\n",
    "\n",
    "The printing press democratized knowledge—but it also:\n",
    "- Enabled mass propaganda\n",
    "- Facilitated religious wars and sectarian violence\n",
    "- Created information overload that people weren't equipped to handle\n",
    "- Disrupted existing knowledge gatekeepers (sometimes for good, sometimes not)\n",
    "\n",
    "The Reformation, enabled by printing technology, led to centuries of religious conflict. That's not in the optimistic framing.\n",
    "\n",
    "### The Luddites Were Right About Some Things\n",
    "\n",
    "We use \"Luddite\" as an insult for technophobes. But the original Luddites weren't irrationally afraid of technology—they were skilled workers watching their livelihoods and communities be destroyed by machines that enriched factory owners.\n",
    "\n",
    "Their concerns about who benefits from technological change were valid. The technology did increase productivity, but the gains went to capital owners, not workers. The Luddites lost that fight, so history remembers them as backwards resistors rather than people with legitimate concerns about economic justice."
   ]
  },
  {
   "cell_type": "markdown",
   "id": "the-agency-question",
   "metadata": {},
   "source": [
    "## The Agency Question: For Whom?\n",
    "\n",
    "Hoffman and Beato frame AI as an \"agency enabler\"—technology that will enhance our capacity to \"do what we ought to do\" and \"plot our own destinies.\"\n",
    "\n",
    "But here's the critical question the introduction doesn't adequately address: **Whose agency gets enabled?**\n",
    "\n",
    "### Technology Doesn't Distribute Benefits Evenly\n",
    "\n",
    "Past technological revolutions increased *aggregate* human capacity and agency. But the distribution was wildly unequal:\n",
    "- Factory owners gained agency; workers often lost autonomy\n",
    "- Landowners who adopted new agricultural tech thrived; tenant farmers were displaced\n",
    "- Early adopters of communication technology gained power; those without access fell further behind\n",
    "\n",
    "When Hoffman talks about AI enabling \"our\" agency, who is \"we\"? Tech founders and investors? Knowledge workers with access to cutting-edge tools? Or also the truck drivers, customer service workers, and radiologists whose jobs might be automated?\n",
    "\n",
    "### Have We Forgotten Our Ways of Life?\n",
    "\n",
    "Each technological revolution didn't just change what people could do—it changed how people lived. Industrialization pulled people from rural communities into urban factories. The printing press disrupted oral traditions and face-to-face knowledge transmission.\n",
    "\n",
    "Some of these changes were positive. Some represented the loss of valuable ways of life that we can never recover.\n",
    "\n",
    "The introduction's optimistic framing acknowledges these past disruptions but seems confident that AI will be different—that we can get the benefits without the costs. History suggests otherwise."
   ]
  },
  {
   "cell_type": "markdown",
   "id": "what-im-looking-for",
   "metadata": {},
   "source": [
    "## What I'm Looking For in the Rest of the Book\n",
    "\n",
    "The introduction sets up an optimistic case for AI as an agency enabler, using historical technological disruptions as precedent. The framing is well-done and intellectually honest about past backlash to new technologies.\n",
    "\n",
    "But it seems to brush past the real costs of those past revolutions. The \"winners\" narrative focuses on aggregate gains while downplaying distributional concerns and the destruction of existing ways of life.\n",
    "\n",
    "As I continue reading, I'm looking for:\n",
    "\n",
    "**Distributional analysis:** Who specifically gains agency from AI, and who loses it?\n",
    "\n",
    "**Cost acknowledgment:** What ways of life, skills, or social structures might we lose, and are those losses acceptable?\n",
    "\n",
    "**Power dynamics:** How do we ensure AI benefits are distributed more equitably than past technological revolutions?\n",
    "\n",
    "**Concrete mechanisms:** Not just \"AI will enable agency,\" but *how* and *for whom* specifically?\n",
    "\n",
    "The book asks: \"What could possibly go right with our AI future?\" But the introduction's own historical examples suggest we should also ask: \"What will go wrong, and for whom?\"\n",
    "\n",
    "History is written by the winners. I'm reading this book to see if Hoffman and Beato can imagine an AI future where there are fewer losers than in past technological revolutions—or if they're just writing the winners' narrative before the story has finished."
   ]
  },
  {
   "cell_type": "markdown",
   "id": "next-review",
   "metadata": {},
   "source": [
    "## Up Next\n",
    "\n",
    "Review #2 will cover pages 48-94, where I expect the book to start making its positive case for AI more explicitly. I'll be watching to see if it addresses the distributional concerns raised by its own historical framing.\n",
    "\n",
    "Stay tuned."
   ]
  }
 ],
 "metadata": {
  "kernelspec": {
   "display_name": "Python 3",
   "language": "python",
   "name": "python3"
  },
  "language_info": {
   "codemirror_mode": {
    "name": "ipython",
    "version": 3
   },
   "file_extension": ".py",
   "mimetype": "text/x-python",
   "name": "python",
   "nbconvert_exporter": "python3",
   "version": "3.8.5"
  }
 },
 "nbformat": 4,
 "nbformat_minor": 4
}