{
 "cells": [
  {
   "cell_type": "raw",
   "id": "metadata-cell",
   "metadata": {},
   "source": [
    "---\n",
    "title: \"Using LLMs for Interview Prep\"\n",
    "description: \"Building an MBB interview assistant with Claude to track cases and practice\"\n",
    "author: \"Raymond Liu Ao\"\n",
    "date: \"10/1/2025\"\n",
    "categories:\n",
    "  - AI\n",
    "  - LLM\n",
    "  - entrepreneurship\n",
    "  - claude\n",
    "image: \"interview-preparation.jpg\"\n",
    "---"
   ]
  },
  {
   "cell_type": "markdown",
   "id": "intro-section",
   "metadata": {},
   "source": [
    "## Building an MBB Interview Assistant\n",
    "\n",
    "With consulting recruiting coming up, I built a custom project in Claude to help with case interview prep. The idea was to have a dedicated space where I could practice cases, track my progress, and get feedback—all in one place.\n",
    "\n",
    "![Interview Preparation](interview-preparation.jpg)\n",
    "*Generic stock photo of a professional interview setting*"
   ]
  },
  {
   "cell_type": "markdown",
   "id": "how-i-set-it-up",
   "metadata": {},
   "source": [
    "## How the Assistant Works\n",
    "\n",
    "### The Setup\n",
    "\n",
    "I created a Claude project called \"MBB Interview Assistant\" with custom instructions:\n",
    "\n",
    "> \"You will be hearing inputs from MBB interviews. Your role as my highly-paid MBB tutor is to come up with frameworks. Answer questions quickly and brainstorm potential questions, and then... develop a MECE, MBB approach (case structure).\"\n",
    "\n",
    "The project has become a repository of my case practice—I can see all my past cases listed: UK leisure club market analysis, UK media company revenue challenges, Science magazine revenue decline, Residential cable company alarm services, Kids Place Daycare Capacity Strategy.\n",
    "\n",
    "### Using the Voice Recording Feature\n",
    "\n",
    "The most useful feature has been Claude's voice recording capability. I can speak through a case out loud, and it transcribes everything accurately and then provides feedback. This simulates the verbal nature of actual case interviews better than typing.\n",
    "\n",
    "For example, when I was working through the UK leisure club case, I could talk through my framework structure verbally, and Claude would follow along and point out gaps in my logic or areas I hadn't considered."
   ]
  },
  {
   "cell_type": "markdown",
   "id": "what-works-well",
   "metadata": {},
   "source": [
    "## What Actually Works\n",
    "\n",
    "### Case Tracking\n",
    "\n",
    "Having all my practice cases in one place is genuinely helpful. I can see which types of cases I've worked on and which I need more practice with. The project view shows each case with timestamps, so I can track my prep progress over time.\n",
    "\n",
    "### Framework Development\n",
    "\n",
    "Claude is good at helping me structure MECE (Mutually Exclusive, Collectively Exhaustive) frameworks. When I'm stuck on how to break down a problem, it can suggest logical buckets to organize my thinking.\n",
    "\n",
    "For the daycare capacity strategy case, it helped me think through supply-side factors (staffing, facilities, regulations) and demand-side factors (demographics, competition, pricing) in a structured way.\n",
    "\n",
    "### Accurate Transcription\n",
    "\n",
    "The voice recording feature transcribes my verbal case practice accurately. I can review what I actually said rather than what I thought I said, which helps identify verbal tics or unclear explanations.\n",
    "\n",
    "### Quick Feedback\n",
    "\n",
    "It provides immediate feedback on structural issues—missing elements in my framework, calculations I didn't account for, or assumptions I should have stated explicitly.\n",
    "\n",
    "![Claude Project Interface](claude-interview-project.jpg)\n",
    "*My MBB Interview Assistant project showing case history and files*"
   ]
  },
  {
   "cell_type": "markdown",
   "id": "significant-limitations",
   "metadata": {},
   "source": [
    "## Major Limitations I've Found\n",
    "\n",
    "### Hallucinations and Made-Up Information\n",
    "\n",
    "This is the biggest problem. Claude sometimes makes up data points or industry facts that sound plausible but aren't real. In the media company revenue case, it cited specific market statistics that I later couldn't verify anywhere.\n",
    "\n",
    "For interview prep, this is dangerous because you might memorize false information and confidently state it in a real interview. I've learned to verify anything that sounds like a specific fact or statistic.\n",
    "\n",
    "### Going Off Topic\n",
    "\n",
    "Sometimes Claude diverges from the specific case question to discuss tangentially related concepts. When working on the cable company alarm services case, it started explaining general IoT trends instead of focusing on the specific competitive positioning question I was asking about.\n",
    "\n",
    "### Scope Creep\n",
    "\n",
    "The AI occasionally suggests frameworks or analyses that are way too broad for a 20-minute case interview. It might recommend conducting customer surveys or building complex financial models—things that wouldn't be feasible in an actual interview setting.\n",
    "\n",
    "### Weird or Broken Links\n",
    "\n",
    "When Claude tries to reference sources or suggest additional reading, the links are often fabricated or don't lead anywhere useful. I've clicked on several suggested resources only to find they don't exist.\n",
    "\n",
    "### Can't Simulate Real Pressure\n",
    "\n",
    "The fundamental limitation remains: practicing with an AI in my room doesn't replicate the pressure of a real interviewer. There's no one judging my confidence, no awkward silences to manage, no reading of facial expressions.\n",
    "\n",
    "[Research on case interview preparation](https://www.mckinsey.com/careers/interviewing) emphasizes that the interpersonal dynamics and time pressure are critical elements that can only be practiced with real people."
   ]
  },
  {
   "cell_type": "markdown",
   "id": "how-im-using-it",
   "metadata": {},
   "source": [
    "## My Actual Approach\n",
    "\n",
    "### Early-Stage Framework Practice\n",
    "\n",
    "I use the Claude project at the beginning of my prep for each case type. It helps me understand what a good framework looks like and gives me immediate feedback on structural issues.\n",
    "\n",
    "### Verbal Practice Tool\n",
    "\n",
    "The voice recording feature is useful for getting comfortable speaking through cases out loud. I can practice articulating my thinking without the pressure of another person listening.\n",
    "\n",
    "### Progress Tracking\n",
    "\n",
    "The project acts as a log of all the cases I've practiced. I can see patterns in which types of cases I struggle with and where I need more work.\n",
    "\n",
    "### Always Verify Facts\n",
    "\n",
    "I never trust specific data points or statistics from Claude without verification. If it mentions a market size or industry trend, I look it up independently.\n",
    "\n",
    "### Real Humans Are Essential\n",
    "\n",
    "After using Claude for initial structure practice, I do the same cases with actual people—friends doing consulting recruiting, career services, or case partners. The AI gets me to baseline competence faster, but real practice is what actually prepares you for the interview dynamic."
   ]
  },
  {
   "cell_type": "markdown",
   "id": "conclusion",
   "metadata": {},
   "source": [
    "## Final Take\n",
    "\n",
    "The MBB Interview Assistant project is a useful supplementary tool but comes with significant limitations. It's good for:\n",
    "- Organizing and tracking case practice\n",
    "- Getting quick structural feedback\n",
    "- Practicing verbal articulation with voice recordings\n",
    "- Understanding framework basics\n",
    "\n",
    "But it's actively harmful if you:\n",
    "- Trust its specific facts without verification\n",
    "- Rely on it as your primary practice method\n",
    "- Follow its suggestions when they're too broad or impractical\n",
    "- Think it can replace practicing with real people\n",
    "\n",
    "The hallucination issue is serious enough that I treat everything Claude says as a suggestion to verify rather than information to memorize. For actual interview prep, the AI is a starting point, not a replacement for traditional practice methods."
   ]
  }
 ],
 "metadata": {
  "kernelspec": {
   "display_name": "Python 3",
   "language": "python",
   "name": "python3"
  },
  "language_info": {
   "codemirror_mode": {
    "name": "ipython",
    "version": 3
   },
   "file_extension": ".py",
   "mimetype": "text/x-python",
   "name": "python",
   "nbconvert_exporter": "python3",
   "version": "3.8.5"
  }
 },
 "nbformat": 4,
 "nbformat_minor": 4
}